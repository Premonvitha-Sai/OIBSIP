{
  "cells": [
    {
      "cell_type": "code",
      "execution_count": 1,
      "id": "81a7fbb1",
      "metadata": {
        "execution": {
          "iopub.execute_input": "2023-02-13T10:07:09.802540Z",
          "iopub.status.busy": "2023-02-13T10:07:09.802028Z",
          "iopub.status.idle": "2023-02-13T10:07:10.895510Z",
          "shell.execute_reply": "2023-02-13T10:07:10.894233Z"
        },
        "papermill": {
          "duration": 1.106772,
          "end_time": "2023-02-13T10:07:10.900018",
          "exception": false,
          "start_time": "2023-02-13T10:07:09.793246",
          "status": "completed"
        },
        "tags": [],
        "id": "81a7fbb1"
      },
      "outputs": [],
      "source": [
        "import pandas as pd\n",
        "import matplotlib.pyplot as plt\n",
        "import seaborn as sb\n",
        "from sklearn.model_selection import train_test_split\n",
        "from sklearn.metrics import mean_absolute_error\n",
        "from sklearn.linear_model import LinearRegression\n",
        "\n",
        "import os\n",
        "for dirname, _, filenames in os.walk('/kaggle/input'):\n",
        "    for filename in filenames:\n",
        "        print(os.path.join(dirname, filename))\n"
      ]
    },
    {
      "cell_type": "markdown",
      "id": "8639920c",
      "metadata": {
        "papermill": {
          "duration": 0.006846,
          "end_time": "2023-02-13T10:07:10.915151",
          "exception": false,
          "start_time": "2023-02-13T10:07:10.908305",
          "status": "completed"
        },
        "tags": [],
        "id": "8639920c"
      },
      "source": [
        "## Loading Data"
      ]
    },
    {
      "cell_type": "code",
      "execution_count": 2,
      "id": "8a8920de",
      "metadata": {
        "execution": {
          "iopub.execute_input": "2023-02-13T10:07:10.931229Z",
          "iopub.status.busy": "2023-02-13T10:07:10.930798Z",
          "iopub.status.idle": "2023-02-13T10:07:10.949859Z",
          "shell.execute_reply": "2023-02-13T10:07:10.948437Z"
        },
        "papermill": {
          "duration": 0.030609,
          "end_time": "2023-02-13T10:07:10.952602",
          "exception": false,
          "start_time": "2023-02-13T10:07:10.921993",
          "status": "completed"
        },
        "tags": [],
        "id": "8a8920de"
      },
      "outputs": [],
      "source": [
        "df = pd.read_csv(\"/content/Advertising.csv\")"
      ]
    },
    {
      "cell_type": "code",
      "execution_count": 3,
      "id": "37b49efc",
      "metadata": {
        "execution": {
          "iopub.execute_input": "2023-02-13T10:07:10.968697Z",
          "iopub.status.busy": "2023-02-13T10:07:10.968180Z",
          "iopub.status.idle": "2023-02-13T10:07:10.992510Z",
          "shell.execute_reply": "2023-02-13T10:07:10.991624Z"
        },
        "papermill": {
          "duration": 0.035733,
          "end_time": "2023-02-13T10:07:10.995314",
          "exception": false,
          "start_time": "2023-02-13T10:07:10.959581",
          "status": "completed"
        },
        "tags": [],
        "id": "37b49efc",
        "outputId": "06035308-1639-4b36-8f04-d27eda17acf5",
        "colab": {
          "base_uri": "https://localhost:8080/",
          "height": 206
        }
      },
      "outputs": [
        {
          "output_type": "execute_result",
          "data": {
            "text/plain": [
              "   Unnamed: 0     TV  Radio  Newspaper  Sales\n",
              "0           1  230.1   37.8       69.2   22.1\n",
              "1           2   44.5   39.3       45.1   10.4\n",
              "2           3   17.2   45.9       69.3    9.3\n",
              "3           4  151.5   41.3       58.5   18.5\n",
              "4           5  180.8   10.8       58.4   12.9"
            ],
            "text/html": [
              "\n",
              "  <div id=\"df-3dd4c06d-846b-41b0-baf4-3c33936bc9f3\">\n",
              "    <div class=\"colab-df-container\">\n",
              "      <div>\n",
              "<style scoped>\n",
              "    .dataframe tbody tr th:only-of-type {\n",
              "        vertical-align: middle;\n",
              "    }\n",
              "\n",
              "    .dataframe tbody tr th {\n",
              "        vertical-align: top;\n",
              "    }\n",
              "\n",
              "    .dataframe thead th {\n",
              "        text-align: right;\n",
              "    }\n",
              "</style>\n",
              "<table border=\"1\" class=\"dataframe\">\n",
              "  <thead>\n",
              "    <tr style=\"text-align: right;\">\n",
              "      <th></th>\n",
              "      <th>Unnamed: 0</th>\n",
              "      <th>TV</th>\n",
              "      <th>Radio</th>\n",
              "      <th>Newspaper</th>\n",
              "      <th>Sales</th>\n",
              "    </tr>\n",
              "  </thead>\n",
              "  <tbody>\n",
              "    <tr>\n",
              "      <th>0</th>\n",
              "      <td>1</td>\n",
              "      <td>230.1</td>\n",
              "      <td>37.8</td>\n",
              "      <td>69.2</td>\n",
              "      <td>22.1</td>\n",
              "    </tr>\n",
              "    <tr>\n",
              "      <th>1</th>\n",
              "      <td>2</td>\n",
              "      <td>44.5</td>\n",
              "      <td>39.3</td>\n",
              "      <td>45.1</td>\n",
              "      <td>10.4</td>\n",
              "    </tr>\n",
              "    <tr>\n",
              "      <th>2</th>\n",
              "      <td>3</td>\n",
              "      <td>17.2</td>\n",
              "      <td>45.9</td>\n",
              "      <td>69.3</td>\n",
              "      <td>9.3</td>\n",
              "    </tr>\n",
              "    <tr>\n",
              "      <th>3</th>\n",
              "      <td>4</td>\n",
              "      <td>151.5</td>\n",
              "      <td>41.3</td>\n",
              "      <td>58.5</td>\n",
              "      <td>18.5</td>\n",
              "    </tr>\n",
              "    <tr>\n",
              "      <th>4</th>\n",
              "      <td>5</td>\n",
              "      <td>180.8</td>\n",
              "      <td>10.8</td>\n",
              "      <td>58.4</td>\n",
              "      <td>12.9</td>\n",
              "    </tr>\n",
              "  </tbody>\n",
              "</table>\n",
              "</div>\n",
              "      <button class=\"colab-df-convert\" onclick=\"convertToInteractive('df-3dd4c06d-846b-41b0-baf4-3c33936bc9f3')\"\n",
              "              title=\"Convert this dataframe to an interactive table.\"\n",
              "              style=\"display:none;\">\n",
              "        \n",
              "  <svg xmlns=\"http://www.w3.org/2000/svg\" height=\"24px\"viewBox=\"0 0 24 24\"\n",
              "       width=\"24px\">\n",
              "    <path d=\"M0 0h24v24H0V0z\" fill=\"none\"/>\n",
              "    <path d=\"M18.56 5.44l.94 2.06.94-2.06 2.06-.94-2.06-.94-.94-2.06-.94 2.06-2.06.94zm-11 1L8.5 8.5l.94-2.06 2.06-.94-2.06-.94L8.5 2.5l-.94 2.06-2.06.94zm10 10l.94 2.06.94-2.06 2.06-.94-2.06-.94-.94-2.06-.94 2.06-2.06.94z\"/><path d=\"M17.41 7.96l-1.37-1.37c-.4-.4-.92-.59-1.43-.59-.52 0-1.04.2-1.43.59L10.3 9.45l-7.72 7.72c-.78.78-.78 2.05 0 2.83L4 21.41c.39.39.9.59 1.41.59.51 0 1.02-.2 1.41-.59l7.78-7.78 2.81-2.81c.8-.78.8-2.07 0-2.86zM5.41 20L4 18.59l7.72-7.72 1.47 1.35L5.41 20z\"/>\n",
              "  </svg>\n",
              "      </button>\n",
              "      \n",
              "  <style>\n",
              "    .colab-df-container {\n",
              "      display:flex;\n",
              "      flex-wrap:wrap;\n",
              "      gap: 12px;\n",
              "    }\n",
              "\n",
              "    .colab-df-convert {\n",
              "      background-color: #E8F0FE;\n",
              "      border: none;\n",
              "      border-radius: 50%;\n",
              "      cursor: pointer;\n",
              "      display: none;\n",
              "      fill: #1967D2;\n",
              "      height: 32px;\n",
              "      padding: 0 0 0 0;\n",
              "      width: 32px;\n",
              "    }\n",
              "\n",
              "    .colab-df-convert:hover {\n",
              "      background-color: #E2EBFA;\n",
              "      box-shadow: 0px 1px 2px rgba(60, 64, 67, 0.3), 0px 1px 3px 1px rgba(60, 64, 67, 0.15);\n",
              "      fill: #174EA6;\n",
              "    }\n",
              "\n",
              "    [theme=dark] .colab-df-convert {\n",
              "      background-color: #3B4455;\n",
              "      fill: #D2E3FC;\n",
              "    }\n",
              "\n",
              "    [theme=dark] .colab-df-convert:hover {\n",
              "      background-color: #434B5C;\n",
              "      box-shadow: 0px 1px 3px 1px rgba(0, 0, 0, 0.15);\n",
              "      filter: drop-shadow(0px 1px 2px rgba(0, 0, 0, 0.3));\n",
              "      fill: #FFFFFF;\n",
              "    }\n",
              "  </style>\n",
              "\n",
              "      <script>\n",
              "        const buttonEl =\n",
              "          document.querySelector('#df-3dd4c06d-846b-41b0-baf4-3c33936bc9f3 button.colab-df-convert');\n",
              "        buttonEl.style.display =\n",
              "          google.colab.kernel.accessAllowed ? 'block' : 'none';\n",
              "\n",
              "        async function convertToInteractive(key) {\n",
              "          const element = document.querySelector('#df-3dd4c06d-846b-41b0-baf4-3c33936bc9f3');\n",
              "          const dataTable =\n",
              "            await google.colab.kernel.invokeFunction('convertToInteractive',\n",
              "                                                     [key], {});\n",
              "          if (!dataTable) return;\n",
              "\n",
              "          const docLinkHtml = 'Like what you see? Visit the ' +\n",
              "            '<a target=\"_blank\" href=https://colab.research.google.com/notebooks/data_table.ipynb>data table notebook</a>'\n",
              "            + ' to learn more about interactive tables.';\n",
              "          element.innerHTML = '';\n",
              "          dataTable['output_type'] = 'display_data';\n",
              "          await google.colab.output.renderOutput(dataTable, element);\n",
              "          const docLink = document.createElement('div');\n",
              "          docLink.innerHTML = docLinkHtml;\n",
              "          element.appendChild(docLink);\n",
              "        }\n",
              "      </script>\n",
              "    </div>\n",
              "  </div>\n",
              "  "
            ]
          },
          "metadata": {},
          "execution_count": 3
        }
      ],
      "source": [
        "df.head()"
      ]
    },
    {
      "cell_type": "code",
      "execution_count": 4,
      "id": "851df10f",
      "metadata": {
        "execution": {
          "iopub.execute_input": "2023-02-13T10:07:11.012581Z",
          "iopub.status.busy": "2023-02-13T10:07:11.011503Z",
          "iopub.status.idle": "2023-02-13T10:07:11.023528Z",
          "shell.execute_reply": "2023-02-13T10:07:11.022164Z"
        },
        "papermill": {
          "duration": 0.023718,
          "end_time": "2023-02-13T10:07:11.026588",
          "exception": false,
          "start_time": "2023-02-13T10:07:11.002870",
          "status": "completed"
        },
        "tags": [],
        "id": "851df10f"
      },
      "outputs": [],
      "source": [
        "df.drop(columns=[\"Unnamed: 0\"], axis=1, inplace=True)"
      ]
    },
    {
      "cell_type": "code",
      "execution_count": 5,
      "id": "b711ddbc",
      "metadata": {
        "execution": {
          "iopub.execute_input": "2023-02-13T10:07:11.045522Z",
          "iopub.status.busy": "2023-02-13T10:07:11.045054Z",
          "iopub.status.idle": "2023-02-13T10:07:11.061406Z",
          "shell.execute_reply": "2023-02-13T10:07:11.060078Z"
        },
        "papermill": {
          "duration": 0.030134,
          "end_time": "2023-02-13T10:07:11.064043",
          "exception": false,
          "start_time": "2023-02-13T10:07:11.033909",
          "status": "completed"
        },
        "tags": [],
        "id": "b711ddbc",
        "outputId": "bb9708b4-ca8d-482d-b465-6158e2580dfa",
        "colab": {
          "base_uri": "https://localhost:8080/",
          "height": 206
        }
      },
      "outputs": [
        {
          "output_type": "execute_result",
          "data": {
            "text/plain": [
              "      TV  Radio  Newspaper  Sales\n",
              "0  230.1   37.8       69.2   22.1\n",
              "1   44.5   39.3       45.1   10.4\n",
              "2   17.2   45.9       69.3    9.3\n",
              "3  151.5   41.3       58.5   18.5\n",
              "4  180.8   10.8       58.4   12.9"
            ],
            "text/html": [
              "\n",
              "  <div id=\"df-da97e4f3-03a7-4dd9-a194-a05e3dd210df\">\n",
              "    <div class=\"colab-df-container\">\n",
              "      <div>\n",
              "<style scoped>\n",
              "    .dataframe tbody tr th:only-of-type {\n",
              "        vertical-align: middle;\n",
              "    }\n",
              "\n",
              "    .dataframe tbody tr th {\n",
              "        vertical-align: top;\n",
              "    }\n",
              "\n",
              "    .dataframe thead th {\n",
              "        text-align: right;\n",
              "    }\n",
              "</style>\n",
              "<table border=\"1\" class=\"dataframe\">\n",
              "  <thead>\n",
              "    <tr style=\"text-align: right;\">\n",
              "      <th></th>\n",
              "      <th>TV</th>\n",
              "      <th>Radio</th>\n",
              "      <th>Newspaper</th>\n",
              "      <th>Sales</th>\n",
              "    </tr>\n",
              "  </thead>\n",
              "  <tbody>\n",
              "    <tr>\n",
              "      <th>0</th>\n",
              "      <td>230.1</td>\n",
              "      <td>37.8</td>\n",
              "      <td>69.2</td>\n",
              "      <td>22.1</td>\n",
              "    </tr>\n",
              "    <tr>\n",
              "      <th>1</th>\n",
              "      <td>44.5</td>\n",
              "      <td>39.3</td>\n",
              "      <td>45.1</td>\n",
              "      <td>10.4</td>\n",
              "    </tr>\n",
              "    <tr>\n",
              "      <th>2</th>\n",
              "      <td>17.2</td>\n",
              "      <td>45.9</td>\n",
              "      <td>69.3</td>\n",
              "      <td>9.3</td>\n",
              "    </tr>\n",
              "    <tr>\n",
              "      <th>3</th>\n",
              "      <td>151.5</td>\n",
              "      <td>41.3</td>\n",
              "      <td>58.5</td>\n",
              "      <td>18.5</td>\n",
              "    </tr>\n",
              "    <tr>\n",
              "      <th>4</th>\n",
              "      <td>180.8</td>\n",
              "      <td>10.8</td>\n",
              "      <td>58.4</td>\n",
              "      <td>12.9</td>\n",
              "    </tr>\n",
              "  </tbody>\n",
              "</table>\n",
              "</div>\n",
              "      <button class=\"colab-df-convert\" onclick=\"convertToInteractive('df-da97e4f3-03a7-4dd9-a194-a05e3dd210df')\"\n",
              "              title=\"Convert this dataframe to an interactive table.\"\n",
              "              style=\"display:none;\">\n",
              "        \n",
              "  <svg xmlns=\"http://www.w3.org/2000/svg\" height=\"24px\"viewBox=\"0 0 24 24\"\n",
              "       width=\"24px\">\n",
              "    <path d=\"M0 0h24v24H0V0z\" fill=\"none\"/>\n",
              "    <path d=\"M18.56 5.44l.94 2.06.94-2.06 2.06-.94-2.06-.94-.94-2.06-.94 2.06-2.06.94zm-11 1L8.5 8.5l.94-2.06 2.06-.94-2.06-.94L8.5 2.5l-.94 2.06-2.06.94zm10 10l.94 2.06.94-2.06 2.06-.94-2.06-.94-.94-2.06-.94 2.06-2.06.94z\"/><path d=\"M17.41 7.96l-1.37-1.37c-.4-.4-.92-.59-1.43-.59-.52 0-1.04.2-1.43.59L10.3 9.45l-7.72 7.72c-.78.78-.78 2.05 0 2.83L4 21.41c.39.39.9.59 1.41.59.51 0 1.02-.2 1.41-.59l7.78-7.78 2.81-2.81c.8-.78.8-2.07 0-2.86zM5.41 20L4 18.59l7.72-7.72 1.47 1.35L5.41 20z\"/>\n",
              "  </svg>\n",
              "      </button>\n",
              "      \n",
              "  <style>\n",
              "    .colab-df-container {\n",
              "      display:flex;\n",
              "      flex-wrap:wrap;\n",
              "      gap: 12px;\n",
              "    }\n",
              "\n",
              "    .colab-df-convert {\n",
              "      background-color: #E8F0FE;\n",
              "      border: none;\n",
              "      border-radius: 50%;\n",
              "      cursor: pointer;\n",
              "      display: none;\n",
              "      fill: #1967D2;\n",
              "      height: 32px;\n",
              "      padding: 0 0 0 0;\n",
              "      width: 32px;\n",
              "    }\n",
              "\n",
              "    .colab-df-convert:hover {\n",
              "      background-color: #E2EBFA;\n",
              "      box-shadow: 0px 1px 2px rgba(60, 64, 67, 0.3), 0px 1px 3px 1px rgba(60, 64, 67, 0.15);\n",
              "      fill: #174EA6;\n",
              "    }\n",
              "\n",
              "    [theme=dark] .colab-df-convert {\n",
              "      background-color: #3B4455;\n",
              "      fill: #D2E3FC;\n",
              "    }\n",
              "\n",
              "    [theme=dark] .colab-df-convert:hover {\n",
              "      background-color: #434B5C;\n",
              "      box-shadow: 0px 1px 3px 1px rgba(0, 0, 0, 0.15);\n",
              "      filter: drop-shadow(0px 1px 2px rgba(0, 0, 0, 0.3));\n",
              "      fill: #FFFFFF;\n",
              "    }\n",
              "  </style>\n",
              "\n",
              "      <script>\n",
              "        const buttonEl =\n",
              "          document.querySelector('#df-da97e4f3-03a7-4dd9-a194-a05e3dd210df button.colab-df-convert');\n",
              "        buttonEl.style.display =\n",
              "          google.colab.kernel.accessAllowed ? 'block' : 'none';\n",
              "\n",
              "        async function convertToInteractive(key) {\n",
              "          const element = document.querySelector('#df-da97e4f3-03a7-4dd9-a194-a05e3dd210df');\n",
              "          const dataTable =\n",
              "            await google.colab.kernel.invokeFunction('convertToInteractive',\n",
              "                                                     [key], {});\n",
              "          if (!dataTable) return;\n",
              "\n",
              "          const docLinkHtml = 'Like what you see? Visit the ' +\n",
              "            '<a target=\"_blank\" href=https://colab.research.google.com/notebooks/data_table.ipynb>data table notebook</a>'\n",
              "            + ' to learn more about interactive tables.';\n",
              "          element.innerHTML = '';\n",
              "          dataTable['output_type'] = 'display_data';\n",
              "          await google.colab.output.renderOutput(dataTable, element);\n",
              "          const docLink = document.createElement('div');\n",
              "          docLink.innerHTML = docLinkHtml;\n",
              "          element.appendChild(docLink);\n",
              "        }\n",
              "      </script>\n",
              "    </div>\n",
              "  </div>\n",
              "  "
            ]
          },
          "metadata": {},
          "execution_count": 5
        }
      ],
      "source": [
        "df.head()"
      ]
    },
    {
      "cell_type": "code",
      "source": [
        "sb.heatmap(df)"
      ],
      "metadata": {
        "id": "xSZbAyLpXaEk",
        "outputId": "8f2e50d1-ea98-4567-c021-a45740f52857",
        "colab": {
          "base_uri": "https://localhost:8080/",
          "height": 288
        }
      },
      "id": "xSZbAyLpXaEk",
      "execution_count": 6,
      "outputs": [
        {
          "output_type": "execute_result",
          "data": {
            "text/plain": [
              "<matplotlib.axes._subplots.AxesSubplot at 0x7f5ff9c2fd00>"
            ]
          },
          "metadata": {},
          "execution_count": 6
        },
        {
          "output_type": "display_data",
          "data": {
            "text/plain": [
              "<Figure size 432x288 with 2 Axes>"
            ],
            "image/png": "[encoded data removed]"
          },
          "metadata": {
            "needs_background": "light"
          }
        }
      ]
    },
    {
      "cell_type": "code",
      "source": [
        "# importing packages\n",
        "import seaborn as sns\n",
        "import matplotlib.pyplot as plt\n",
        "\n",
        "\n",
        "sb.scatterplot( x=\"TV\", y='Sales', data=df,\n",
        "\t\t\t\thue='Radio')\n",
        "\n",
        "# Placing Legend outside the Figure\n",
        "plt.legend(bbox_to_anchor=(1, 1), loc=2)\n",
        "\n",
        "plt.show()\n"
      ],
      "metadata": {
        "id": "3YWHKX_FXpDv",
        "outputId": "2e00bd8a-1981-4b8b-911c-f10e132ce42f",
        "colab": {
          "base_uri": "https://localhost:8080/",
          "height": 279
        }
      },
      "id": "3YWHKX_FXpDv",
      "execution_count": 7,
      "outputs": [
        {
          "output_type": "display_data",
          "data": {
            "text/plain": [
              "<Figure size 432x288 with 1 Axes>"
            ],
            "image/png": "[encoded data removed]"
          },
          "metadata": {
            "needs_background": "light"
          }
        }
      ]
    },
    {
      "cell_type": "code",
      "source": [
        "# importing packages\n",
        "import seaborn as sns\n",
        "import matplotlib.pyplot as plt\n",
        "\n",
        "\n",
        "\n",
        "\n",
        "sns.boxplot(x='Sales', data=df)\n"
      ],
      "metadata": {
        "id": "FC5aU968X5u3",
        "outputId": "aa39e3e9-270a-4c30-83b2-20b4a196aa3d",
        "colab": {
          "base_uri": "https://localhost:8080/",
          "height": 297
        }
      },
      "id": "FC5aU968X5u3",
      "execution_count": 8,
      "outputs": [
        {
          "output_type": "execute_result",
          "data": {
            "text/plain": [
              "<matplotlib.axes._subplots.AxesSubplot at 0x7f5ff6e1efa0>"
            ]
          },
          "metadata": {},
          "execution_count": 8
        },
        {
          "output_type": "display_data",
          "data": {
            "text/plain": [
              "<Figure size 432x288 with 1 Axes>"
            ],
            "image/png": "[encoded data removed]"
          },
          "metadata": {
            "needs_background": "light"
          }
        }
      ]
    },
    {
      "cell_type": "code",
      "source": [
        "sns_plot = sb.distplot(df[\"Sales\"])"
      ],
      "metadata": {
        "id": "ZwtIkDy1YRoc",
        "outputId": "72f79c4d-f9bb-4d78-c4fb-cb3d0c3dc4c5",
        "colab": {
          "base_uri": "https://localhost:8080/",
          "height": 335
        }
      },
      "id": "ZwtIkDy1YRoc",
      "execution_count": 9,
      "outputs": [
        {
          "output_type": "stream",
          "name": "stderr",
          "text": [
            "/usr/local/lib/python3.8/dist-packages/seaborn/distributions.py:2619: FutureWarning: `distplot` is a deprecated function and will be removed in a future version. Please adapt your code to use either `displot` (a figure-level function with similar flexibility) or `histplot` (an axes-level function for histograms).\n",
            "  warnings.warn(msg, FutureWarning)\n"
          ]
        },
        {
          "output_type": "display_data",
          "data": {
            "text/plain": [
              "<Figure size 432x288 with 1 Axes>"
            ],
            "image/png": "[encoded data removed]"
          },
          "metadata": {
            "needs_background": "light"
          }
        }
      ]
    },
    {
      "cell_type": "markdown",
      "id": "6633997d",
      "metadata": {
        "papermill": {
          "duration": 0.008293,
          "end_time": "2023-02-13T10:07:11.082157",
          "exception": false,
          "start_time": "2023-02-13T10:07:11.073864",
          "status": "completed"
        },
        "tags": [],
        "id": "6633997d"
      },
      "source": [
        "## Splitting Data"
      ]
    },
    {
      "cell_type": "code",
      "execution_count": 10,
      "id": "f43c69c4",
      "metadata": {
        "execution": {
          "iopub.execute_input": "2023-02-13T10:07:11.106915Z",
          "iopub.status.busy": "2023-02-13T10:07:11.106015Z",
          "iopub.status.idle": "2023-02-13T10:07:11.117464Z",
          "shell.execute_reply": "2023-02-13T10:07:11.116329Z"
        },
        "papermill": {
          "duration": 0.028201,
          "end_time": "2023-02-13T10:07:11.120102",
          "exception": false,
          "start_time": "2023-02-13T10:07:11.091901",
          "status": "completed"
        },
        "tags": [],
        "id": "f43c69c4"
      },
      "outputs": [],
      "source": [
        "features = [\"TV\", \"Radio\", \"Newspaper\"]\n",
        "X = df[features]\n",
        "target = \"Sales\"\n",
        "y = df[target]\n",
        "\n",
        "X_train, X_test, y_train, y_test = train_test_split(X, y, test_size=0.2, random_state=42)"
      ]
    },
    {
      "cell_type": "markdown",
      "id": "1ca7f6ea",
      "metadata": {
        "papermill": {
          "duration": 0.006881,
          "end_time": "2023-02-13T10:07:11.134290",
          "exception": false,
          "start_time": "2023-02-13T10:07:11.127409",
          "status": "completed"
        },
        "tags": [],
        "id": "1ca7f6ea"
      },
      "source": [
        "## Build Model"
      ]
    },
    {
      "cell_type": "code",
      "execution_count": 11,
      "id": "7860c900",
      "metadata": {
        "execution": {
          "iopub.execute_input": "2023-02-13T10:07:11.150756Z",
          "iopub.status.busy": "2023-02-13T10:07:11.149935Z",
          "iopub.status.idle": "2023-02-13T10:07:11.157146Z",
          "shell.execute_reply": "2023-02-13T10:07:11.156005Z"
        },
        "papermill": {
          "duration": 0.019246,
          "end_time": "2023-02-13T10:07:11.160797",
          "exception": false,
          "start_time": "2023-02-13T10:07:11.141551",
          "status": "completed"
        },
        "tags": [],
        "id": "7860c900",
        "outputId": "0d896418-b565-45de-d54e-8d2a2fa17028",
        "colab": {
          "base_uri": "https://localhost:8080/"
        }
      },
      "outputs": [
        {
          "output_type": "stream",
          "name": "stdout",
          "text": [
            "Mean Error:  14.1\n",
            "Baseline Error:  [14.1, 14.1, 14.1, 14.1, 14.1]\n",
            "MAE Baseline:  4.12\n"
          ]
        }
      ],
      "source": [
        "y_mean = y_train.mean()\n",
        "print(\"Mean Error: \", y_mean)\n",
        "y_pred_baseline = [y_mean] * len(y_train)\n",
        "print(\"Baseline Error: \", y_pred_baseline[:5])\n",
        "mae_baseline = mean_absolute_error(y_train, y_pred_baseline)\n",
        "print(\"MAE Baseline: \", mae_baseline)"
      ]
    },
    {
      "cell_type": "code",
      "source": [
        "sns.pairplot(df, diag_kind='kde')   "
      ],
      "metadata": {
        "id": "6ubtKVXHYaGT",
        "outputId": "5266e523-f7d9-46e7-e696-9cdfec8ed47b",
        "colab": {
          "base_uri": "https://localhost:8080/",
          "height": 742
        }
      },
      "id": "6ubtKVXHYaGT",
      "execution_count": 12,
      "outputs": [
        {
          "output_type": "execute_result",
          "data": {
            "text/plain": [
              "<seaborn.axisgrid.PairGrid at 0x7f5ff4cfee50>"
            ]
          },
          "metadata": {},
          "execution_count": 12
        },
        {
          "output_type": "display_data",
          "data": {
            "text/plain": [
              "<Figure size 720x720 with 20 Axes>"
            ],
            "image/png": "[encoded data removed]"
          },
          "metadata": {
            "needs_background": "light"
          }
        }
      ]
    },
    {
      "cell_type": "markdown",
      "id": "f555cadb",
      "metadata": {
        "papermill": {
          "duration": 0.006962,
          "end_time": "2023-02-13T10:07:11.174995",
          "exception": false,
          "start_time": "2023-02-13T10:07:11.168033",
          "status": "completed"
        },
        "tags": [],
        "id": "f555cadb"
      },
      "source": [
        "### Model Instantiation"
      ]
    },
    {
      "cell_type": "code",
      "execution_count": 13,
      "id": "a06fc62a",
      "metadata": {
        "execution": {
          "iopub.execute_input": "2023-02-13T10:07:11.191912Z",
          "iopub.status.busy": "2023-02-13T10:07:11.191513Z",
          "iopub.status.idle": "2023-02-13T10:07:11.218390Z",
          "shell.execute_reply": "2023-02-13T10:07:11.217122Z"
        },
        "papermill": {
          "duration": 0.038964,
          "end_time": "2023-02-13T10:07:11.221310",
          "exception": false,
          "start_time": "2023-02-13T10:07:11.182346",
          "status": "completed"
        },
        "tags": [],
        "id": "a06fc62a",
        "outputId": "74c85c4e-62c4-4298-dd90-4b8ae4114230",
        "colab": {
          "base_uri": "https://localhost:8080/"
        }
      },
      "outputs": [
        {
          "output_type": "execute_result",
          "data": {
            "text/plain": [
              "LinearRegression()"
            ]
          },
          "metadata": {},
          "execution_count": 13
        }
      ],
      "source": [
        "model = LinearRegression().fit(X_train, y_train)\n",
        "model"
      ]
    },
    {
      "cell_type": "markdown",
      "id": "d6f682d3",
      "metadata": {
        "papermill": {
          "duration": 0.007728,
          "end_time": "2023-02-13T10:07:11.236514",
          "exception": false,
          "start_time": "2023-02-13T10:07:11.228786",
          "status": "completed"
        },
        "tags": [],
        "id": "d6f682d3"
      },
      "source": [
        "#### Predicitions on Training Data"
      ]
    },
    {
      "cell_type": "code",
      "execution_count": 14,
      "id": "c28efafb",
      "metadata": {
        "execution": {
          "iopub.execute_input": "2023-02-13T10:07:11.254205Z",
          "iopub.status.busy": "2023-02-13T10:07:11.253701Z",
          "iopub.status.idle": "2023-02-13T10:07:11.264573Z",
          "shell.execute_reply": "2023-02-13T10:07:11.263574Z"
        },
        "papermill": {
          "duration": 0.022874,
          "end_time": "2023-02-13T10:07:11.267654",
          "exception": false,
          "start_time": "2023-02-13T10:07:11.244780",
          "status": "completed"
        },
        "tags": [],
        "id": "c28efafb",
        "outputId": "3fa8af46-1e0d-41f6-97e5-696241b36eb8",
        "colab": {
          "base_uri": "https://localhost:8080/"
        }
      },
      "outputs": [
        {
          "output_type": "stream",
          "name": "stdout",
          "text": [
            "Predicted values after model:  [ 9.68827502 12.67337707 10.0553326   8.20010235 13.49562077]\n",
            "MAE for training data after prediction:  1.1984678961500137\n"
          ]
        }
      ],
      "source": [
        "y_pred_training = model.predict(X_train)\n",
        "print(\"Predicted values after model: \", y_pred_training[:5])\n",
        "mae_pred_training = mean_absolute_error(y_train, y_pred_training)\n",
        "print(\"MAE for training data after prediction: \", mae_pred_training)"
      ]
    },
    {
      "cell_type": "markdown",
      "id": "84d525a4",
      "metadata": {
        "papermill": {
          "duration": 0.007207,
          "end_time": "2023-02-13T10:07:11.284385",
          "exception": false,
          "start_time": "2023-02-13T10:07:11.277178",
          "status": "completed"
        },
        "tags": [],
        "id": "84d525a4"
      },
      "source": [
        "#### Predictions on Test Data"
      ]
    },
    {
      "cell_type": "code",
      "execution_count": 15,
      "id": "8d57fd3f",
      "metadata": {
        "execution": {
          "iopub.execute_input": "2023-02-13T10:07:11.302552Z",
          "iopub.status.busy": "2023-02-13T10:07:11.301604Z",
          "iopub.status.idle": "2023-02-13T10:07:11.313098Z",
          "shell.execute_reply": "2023-02-13T10:07:11.310922Z"
        },
        "papermill": {
          "duration": 0.025481,
          "end_time": "2023-02-13T10:07:11.317321",
          "exception": false,
          "start_time": "2023-02-13T10:07:11.291840",
          "status": "completed"
        },
        "tags": [],
        "id": "8d57fd3f",
        "outputId": "aa05e5a1-1c05-4be9-f576-9a11691905b2",
        "colab": {
          "base_uri": "https://localhost:8080/"
        }
      },
      "outputs": [
        {
          "output_type": "stream",
          "name": "stdout",
          "text": [
            "Predicted values after model:  [16.4080242  20.88988209 21.55384318 10.60850256 22.11237326]\n",
            "MAE for test data after prediction:  1.4607567168117603\n"
          ]
        }
      ],
      "source": [
        "y_pred_test = model.predict(X_test)\n",
        "print(\"Predicted values after model: \", y_pred_test[:5])\n",
        "mae_pred_test = mean_absolute_error(y_test, y_pred_test)\n",
        "print(\"MAE for test data after prediction: \", mae_pred_test)"
      ]
    },
    {
      "cell_type": "markdown",
      "id": "88908484",
      "metadata": {
        "papermill": {
          "duration": 0.007991,
          "end_time": "2023-02-13T10:07:11.334392",
          "exception": false,
          "start_time": "2023-02-13T10:07:11.326401",
          "status": "completed"
        },
        "tags": [],
        "id": "88908484"
      },
      "source": [
        "##### Extract Intercept"
      ]
    },
    {
      "cell_type": "code",
      "execution_count": 16,
      "id": "bb43324b",
      "metadata": {
        "execution": {
          "iopub.execute_input": "2023-02-13T10:07:11.352896Z",
          "iopub.status.busy": "2023-02-13T10:07:11.352439Z",
          "iopub.status.idle": "2023-02-13T10:07:11.361223Z",
          "shell.execute_reply": "2023-02-13T10:07:11.359407Z"
        },
        "papermill": {
          "duration": 0.022005,
          "end_time": "2023-02-13T10:07:11.364691",
          "exception": false,
          "start_time": "2023-02-13T10:07:11.342686",
          "status": "completed"
        },
        "tags": [],
        "id": "bb43324b",
        "outputId": "739f6c39-63b6-4980-e490-b6388afa99e1",
        "colab": {
          "base_uri": "https://localhost:8080/"
        }
      },
      "outputs": [
        {
          "output_type": "execute_result",
          "data": {
            "text/plain": [
              "2.979067338122629"
            ]
          },
          "metadata": {},
          "execution_count": 16
        }
      ],
      "source": [
        "intercept = model.intercept_\n",
        "intercept"
      ]
    },
    {
      "cell_type": "markdown",
      "id": "5f4d9a2c",
      "metadata": {
        "papermill": {
          "duration": 0.008479,
          "end_time": "2023-02-13T10:07:11.382275",
          "exception": false,
          "start_time": "2023-02-13T10:07:11.373796",
          "status": "completed"
        },
        "tags": [],
        "id": "5f4d9a2c"
      },
      "source": [
        "##### Extract Coefficient"
      ]
    },
    {
      "cell_type": "code",
      "execution_count": 17,
      "id": "f2ba0c18",
      "metadata": {
        "execution": {
          "iopub.execute_input": "2023-02-13T10:07:11.400181Z",
          "iopub.status.busy": "2023-02-13T10:07:11.399677Z",
          "iopub.status.idle": "2023-02-13T10:07:11.407668Z",
          "shell.execute_reply": "2023-02-13T10:07:11.406384Z"
        },
        "papermill": {
          "duration": 0.019733,
          "end_time": "2023-02-13T10:07:11.410264",
          "exception": false,
          "start_time": "2023-02-13T10:07:11.390531",
          "status": "completed"
        },
        "tags": [],
        "id": "f2ba0c18",
        "outputId": "ebf03ca4-a96f-4d36-bc9e-df9c781b28de",
        "colab": {
          "base_uri": "https://localhost:8080/"
        }
      },
      "outputs": [
        {
          "output_type": "execute_result",
          "data": {
            "text/plain": [
              "array([0.04472952, 0.18919505, 0.00276111])"
            ]
          },
          "metadata": {},
          "execution_count": 17
        }
      ],
      "source": [
        "coefficient = model.coef_\n",
        "coefficient"
      ]
    },
    {
      "cell_type": "markdown",
      "id": "a13de4cc",
      "metadata": {
        "papermill": {
          "duration": 0.010291,
          "end_time": "2023-02-13T10:07:11.429547",
          "exception": false,
          "start_time": "2023-02-13T10:07:11.419256",
          "status": "completed"
        },
        "tags": [],
        "id": "a13de4cc"
      },
      "source": [
        "## Multi-LinearRegression Equation"
      ]
    },
    {
      "cell_type": "code",
      "execution_count": 18,
      "id": "920bed78",
      "metadata": {
        "execution": {
          "iopub.execute_input": "2023-02-13T10:07:11.448877Z",
          "iopub.status.busy": "2023-02-13T10:07:11.448461Z",
          "iopub.status.idle": "2023-02-13T10:07:11.454921Z",
          "shell.execute_reply": "2023-02-13T10:07:11.453224Z"
        },
        "papermill": {
          "duration": 0.021931,
          "end_time": "2023-02-13T10:07:11.460665",
          "exception": false,
          "start_time": "2023-02-13T10:07:11.438734",
          "status": "completed"
        },
        "tags": [],
        "id": "920bed78",
        "outputId": "5f6338da-7508-4c19-c025-010ec6417b7c",
        "colab": {
          "base_uri": "https://localhost:8080/"
        }
      },
      "outputs": [
        {
          "output_type": "stream",
          "name": "stdout",
          "text": [
            "Sales = 2.979067338122629 + 0.044729517468716326 * TV + 0.18919505423437652 * Radio + 0.0027611143413671935 * Newspaper\n"
          ]
        }
      ],
      "source": [
        "print(f\"Sales = {intercept} + {coefficient[0]} * TV + {coefficient[1]} * Radio + {coefficient[2]} * Newspaper\")"
      ]
    },
    {
      "cell_type": "markdown",
      "id": "56ded3ea",
      "metadata": {
        "papermill": {
          "duration": 0.008743,
          "end_time": "2023-02-13T10:07:11.478209",
          "exception": false,
          "start_time": "2023-02-13T10:07:11.469466",
          "status": "completed"
        },
        "tags": [],
        "id": "56ded3ea"
      },
      "source": [
        "## Model Evaluation"
      ]
    },
    {
      "cell_type": "code",
      "execution_count": 19,
      "id": "9298b8e4",
      "metadata": {
        "execution": {
          "iopub.execute_input": "2023-02-13T10:07:11.498226Z",
          "iopub.status.busy": "2023-02-13T10:07:11.497771Z",
          "iopub.status.idle": "2023-02-13T10:07:11.511778Z",
          "shell.execute_reply": "2023-02-13T10:07:11.509990Z"
        },
        "papermill": {
          "duration": 0.027097,
          "end_time": "2023-02-13T10:07:11.514771",
          "exception": false,
          "start_time": "2023-02-13T10:07:11.487674",
          "status": "completed"
        },
        "tags": [],
        "id": "9298b8e4",
        "outputId": "60af4171-2fc8-42d8-9e47-c1734d276552",
        "colab": {
          "base_uri": "https://localhost:8080/"
        }
      },
      "outputs": [
        {
          "output_type": "stream",
          "name": "stdout",
          "text": [
            "Score of training data:  0.8957008271017818\n",
            "Score of test data:  0.8957008271017818\n"
          ]
        }
      ],
      "source": [
        "print(\"Score of training data: \", model.score(X_train, y_train))\n",
        "print(\"Score of test data: \", model.score(X_train, y_train))"
      ]
    },
    {
      "cell_type": "markdown",
      "id": "8347da81",
      "metadata": {
        "papermill": {
          "duration": 0.007836,
          "end_time": "2023-02-13T10:07:11.531097",
          "exception": false,
          "start_time": "2023-02-13T10:07:11.523261",
          "status": "completed"
        },
        "tags": [],
        "id": "8347da81"
      },
      "source": [
        "## Actual vs Prediction [Training Data]"
      ]
    },
    {
      "cell_type": "code",
      "execution_count": 20,
      "id": "996238a5",
      "metadata": {
        "execution": {
          "iopub.execute_input": "2023-02-13T10:07:11.549503Z",
          "iopub.status.busy": "2023-02-13T10:07:11.549031Z",
          "iopub.status.idle": "2023-02-13T10:07:11.797463Z",
          "shell.execute_reply": "2023-02-13T10:07:11.796259Z"
        },
        "papermill": {
          "duration": 0.260754,
          "end_time": "2023-02-13T10:07:11.800172",
          "exception": false,
          "start_time": "2023-02-13T10:07:11.539418",
          "status": "completed"
        },
        "tags": [],
        "id": "996238a5",
        "outputId": "0a4d3ce0-b9cb-4d9a-9889-ea4b5ba6f9ee",
        "colab": {
          "base_uri": "https://localhost:8080/",
          "height": 313
        }
      },
      "outputs": [
        {
          "output_type": "execute_result",
          "data": {
            "text/plain": [
              "Text(0.5, 1.0, 'Actual vs Predicted [Training Data]')"
            ]
          },
          "metadata": {},
          "execution_count": 20
        },
        {
          "output_type": "display_data",
          "data": {
            "text/plain": [
              "<Figure size 432x288 with 1 Axes>"
            ],
            "image/png": "[encoded data removed]"
          },
          "metadata": {
            "needs_background": "light"
          }
        }
      ],
      "source": [
        "plt.scatter(y_train, y_pred_training)\n",
        "plt.xlabel(\"Actual\")\n",
        "plt.ylabel(\"Predicted\")\n",
        "plt.title(\"Actual vs Predicted [Training Data]\")"
      ]
    },
    {
      "cell_type": "markdown",
      "id": "b7a5dd2f",
      "metadata": {
        "papermill": {
          "duration": 0.008344,
          "end_time": "2023-02-13T10:07:11.817250",
          "exception": false,
          "start_time": "2023-02-13T10:07:11.808906",
          "status": "completed"
        },
        "tags": [],
        "id": "b7a5dd2f"
      },
      "source": [
        "## Actual vs Prediction [Test Data]"
      ]
    },
    {
      "cell_type": "code",
      "execution_count": 21,
      "id": "a0ea6958",
      "metadata": {
        "execution": {
          "iopub.execute_input": "2023-02-13T10:07:11.837097Z",
          "iopub.status.busy": "2023-02-13T10:07:11.835578Z",
          "iopub.status.idle": "2023-02-13T10:07:12.066987Z",
          "shell.execute_reply": "2023-02-13T10:07:12.066045Z"
        },
        "papermill": {
          "duration": 0.243804,
          "end_time": "2023-02-13T10:07:12.069410",
          "exception": false,
          "start_time": "2023-02-13T10:07:11.825606",
          "status": "completed"
        },
        "tags": [],
        "id": "a0ea6958",
        "outputId": "32f9fc89-196c-4680-bc9a-3e0350754527",
        "colab": {
          "base_uri": "https://localhost:8080/",
          "height": 313
        }
      },
      "outputs": [
        {
          "output_type": "execute_result",
          "data": {
            "text/plain": [
              "Text(0.5, 1.0, 'Actual vs Predicted [Test Data]')"
            ]
          },
          "metadata": {},
          "execution_count": 21
        },
        {
          "output_type": "display_data",
          "data": {
            "text/plain": [
              "<Figure size 432x288 with 1 Axes>"
            ],
            "image/png": "[encoded data removed]"
          },
          "metadata": {
            "needs_background": "light"
          }
        }
      ],
      "source": [
        "plt.scatter(y_test, y_pred_test)\n",
        "plt.xlabel(\"Actual\")\n",
        "plt.ylabel(\"Predicted\")\n",
        "plt.title(\"Actual vs Predicted [Test Data]\")"
      ]
    },
    {
      "cell_type": "markdown",
      "id": "83def982",
      "metadata": {
        "papermill": {
          "duration": 0.008608,
          "end_time": "2023-02-13T10:07:12.087244",
          "exception": false,
          "start_time": "2023-02-13T10:07:12.078636",
          "status": "completed"
        },
        "tags": [],
        "id": "83def982"
      },
      "source": [
        "## Dataframe of Actual vs Predicted Sales"
      ]
    },
    {
      "cell_type": "code",
      "execution_count": 22,
      "id": "d66b30ad",
      "metadata": {
        "execution": {
          "iopub.execute_input": "2023-02-13T10:07:12.107064Z",
          "iopub.status.busy": "2023-02-13T10:07:12.106190Z",
          "iopub.status.idle": "2023-02-13T10:07:12.119522Z",
          "shell.execute_reply": "2023-02-13T10:07:12.118309Z"
        },
        "papermill": {
          "duration": 0.025795,
          "end_time": "2023-02-13T10:07:12.122023",
          "exception": false,
          "start_time": "2023-02-13T10:07:12.096228",
          "status": "completed"
        },
        "tags": [],
        "id": "d66b30ad",
        "outputId": "f9ae0f41-7149-4420-ef2a-160686dca365",
        "colab": {
          "base_uri": "https://localhost:8080/",
          "height": 206
        }
      },
      "outputs": [
        {
          "output_type": "execute_result",
          "data": {
            "text/plain": [
              "     Actual  Predicted\n",
              "95     16.9  16.408024\n",
              "15     22.4  20.889882\n",
              "30     21.4  21.553843\n",
              "158     7.3  10.608503\n",
              "128    24.7  22.112373"
            ],
            "text/html": [
              "\n",
              "  <div id=\"df-e3c9108d-9612-41f3-a2e5-fffea5442008\">\n",
              "    <div class=\"colab-df-container\">\n",
              "      <div>\n",
              "<style scoped>\n",
              "    .dataframe tbody tr th:only-of-type {\n",
              "        vertical-align: middle;\n",
              "    }\n",
              "\n",
              "    .dataframe tbody tr th {\n",
              "        vertical-align: top;\n",
              "    }\n",
              "\n",
              "    .dataframe thead th {\n",
              "        text-align: right;\n",
              "    }\n",
              "</style>\n",
              "<table border=\"1\" class=\"dataframe\">\n",
              "  <thead>\n",
              "    <tr style=\"text-align: right;\">\n",
              "      <th></th>\n",
              "      <th>Actual</th>\n",
              "      <th>Predicted</th>\n",
              "    </tr>\n",
              "  </thead>\n",
              "  <tbody>\n",
              "    <tr>\n",
              "      <th>95</th>\n",
              "      <td>16.9</td>\n",
              "      <td>16.408024</td>\n",
              "    </tr>\n",
              "    <tr>\n",
              "      <th>15</th>\n",
              "      <td>22.4</td>\n",
              "      <td>20.889882</td>\n",
              "    </tr>\n",
              "    <tr>\n",
              "      <th>30</th>\n",
              "      <td>21.4</td>\n",
              "      <td>21.553843</td>\n",
              "    </tr>\n",
              "    <tr>\n",
              "      <th>158</th>\n",
              "      <td>7.3</td>\n",
              "      <td>10.608503</td>\n",
              "    </tr>\n",
              "    <tr>\n",
              "      <th>128</th>\n",
              "      <td>24.7</td>\n",
              "      <td>22.112373</td>\n",
              "    </tr>\n",
              "  </tbody>\n",
              "</table>\n",
              "</div>\n",
              "      <button class=\"colab-df-convert\" onclick=\"convertToInteractive('df-e3c9108d-9612-41f3-a2e5-fffea5442008')\"\n",
              "              title=\"Convert this dataframe to an interactive table.\"\n",
              "              style=\"display:none;\">\n",
              "        \n",
              "  <svg xmlns=\"http://www.w3.org/2000/svg\" height=\"24px\"viewBox=\"0 0 24 24\"\n",
              "       width=\"24px\">\n",
              "    <path d=\"M0 0h24v24H0V0z\" fill=\"none\"/>\n",
              "    <path d=\"M18.56 5.44l.94 2.06.94-2.06 2.06-.94-2.06-.94-.94-2.06-.94 2.06-2.06.94zm-11 1L8.5 8.5l.94-2.06 2.06-.94-2.06-.94L8.5 2.5l-.94 2.06-2.06.94zm10 10l.94 2.06.94-2.06 2.06-.94-2.06-.94-.94-2.06-.94 2.06-2.06.94z\"/><path d=\"M17.41 7.96l-1.37-1.37c-.4-.4-.92-.59-1.43-.59-.52 0-1.04.2-1.43.59L10.3 9.45l-7.72 7.72c-.78.78-.78 2.05 0 2.83L4 21.41c.39.39.9.59 1.41.59.51 0 1.02-.2 1.41-.59l7.78-7.78 2.81-2.81c.8-.78.8-2.07 0-2.86zM5.41 20L4 18.59l7.72-7.72 1.47 1.35L5.41 20z\"/>\n",
              "  </svg>\n",
              "      </button>\n",
              "      \n",
              "  <style>\n",
              "    .colab-df-container {\n",
              "      display:flex;\n",
              "      flex-wrap:wrap;\n",
              "      gap: 12px;\n",
              "    }\n",
              "\n",
              "    .colab-df-convert {\n",
              "      background-color: #E8F0FE;\n",
              "      border: none;\n",
              "      border-radius: 50%;\n",
              "      cursor: pointer;\n",
              "      display: none;\n",
              "      fill: #1967D2;\n",
              "      height: 32px;\n",
              "      padding: 0 0 0 0;\n",
              "      width: 32px;\n",
              "    }\n",
              "\n",
              "    .colab-df-convert:hover {\n",
              "      background-color: #E2EBFA;\n",
              "      box-shadow: 0px 1px 2px rgba(60, 64, 67, 0.3), 0px 1px 3px 1px rgba(60, 64, 67, 0.15);\n",
              "      fill: #174EA6;\n",
              "    }\n",
              "\n",
              "    [theme=dark] .colab-df-convert {\n",
              "      background-color: #3B4455;\n",
              "      fill: #D2E3FC;\n",
              "    }\n",
              "\n",
              "    [theme=dark] .colab-df-convert:hover {\n",
              "      background-color: #434B5C;\n",
              "      box-shadow: 0px 1px 3px 1px rgba(0, 0, 0, 0.15);\n",
              "      filter: drop-shadow(0px 1px 2px rgba(0, 0, 0, 0.3));\n",
              "      fill: #FFFFFF;\n",
              "    }\n",
              "  </style>\n",
              "\n",
              "      <script>\n",
              "        const buttonEl =\n",
              "          document.querySelector('#df-e3c9108d-9612-41f3-a2e5-fffea5442008 button.colab-df-convert');\n",
              "        buttonEl.style.display =\n",
              "          google.colab.kernel.accessAllowed ? 'block' : 'none';\n",
              "\n",
              "        async function convertToInteractive(key) {\n",
              "          const element = document.querySelector('#df-e3c9108d-9612-41f3-a2e5-fffea5442008');\n",
              "          const dataTable =\n",
              "            await google.colab.kernel.invokeFunction('convertToInteractive',\n",
              "                                                     [key], {});\n",
              "          if (!dataTable) return;\n",
              "\n",
              "          const docLinkHtml = 'Like what you see? Visit the ' +\n",
              "            '<a target=\"_blank\" href=https://colab.research.google.com/notebooks/data_table.ipynb>data table notebook</a>'\n",
              "            + ' to learn more about interactive tables.';\n",
              "          element.innerHTML = '';\n",
              "          dataTable['output_type'] = 'display_data';\n",
              "          await google.colab.output.renderOutput(dataTable, element);\n",
              "          const docLink = document.createElement('div');\n",
              "          docLink.innerHTML = docLinkHtml;\n",
              "          element.appendChild(docLink);\n",
              "        }\n",
              "      </script>\n",
              "    </div>\n",
              "  </div>\n",
              "  "
            ]
          },
          "metadata": {},
          "execution_count": 22
        }
      ],
      "source": [
        "y_pred_test_df = pd.DataFrame({\"Actual\":y_test, \"Predicted\":y_pred_test})\n",
        "y_pred_test_df.head()"
      ]
    }
  ],
  "metadata": {
    "kernelspec": {
      "display_name": "Python 3",
      "language": "python",
      "name": "python3"
    },
    "language_info": {
      "codemirror_mode": {
        "name": "ipython",
        "version": 3
      },
      "file_extension": ".py",
      "mimetype": "text/x-python",
      "name": "python",
      "nbconvert_exporter": "python",
      "pygments_lexer": "ipython3",
      "version": "3.7.12"
    },
    "papermill": {
      "default_parameters": {},
      "duration": 12.062142,
      "end_time": "2023-02-13T10:07:12.954239",
      "environment_variables": {},
      "exception": null,
      "input_path": "__notebook__.ipynb",
      "output_path": "__notebook__.ipynb",
      "parameters": {},
      "start_time": "2023-02-13T10:07:00.892097",
      "version": "2.3.4"
    },
    "colab": {
      "provenance": []
    }
  },
  "nbformat": 4,
  "nbformat_minor": 5
}